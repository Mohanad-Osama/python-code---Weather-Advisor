{
 "cells": [
  {
   "cell_type": "code",
   "execution_count": null,
   "id": "6d05ea39-6e07-483c-84dd-b9249d130018",
   "metadata": {},
   "outputs": [],
   "source": [
    "temp = int(input(\"Enter the current temprature\"))\n",
    "if temp >= 30 :\n",
    "    print (\"It's a hot day. Stay hydrated\")\n",
    "elif temp >= 20 and temp <= 29 :\n",
    "    print (\"It's a warm day. Enjoy the weather!\")\n",
    "elif  temp >= 10 and temp <= 19 :   \n",
    "    print (\"It's a cool day. Wear a jacket!\")\n",
    "else :\n",
    "    print (\"It's a cold day. Stay warm!\")\n",
    "    "
   ]
  }
 ],
 "metadata": {
  "kernelspec": {
   "display_name": "Python [conda env:base] *",
   "language": "python",
   "name": "conda-base-py"
  },
  "language_info": {
   "codemirror_mode": {
    "name": "ipython",
    "version": 3
   },
   "file_extension": ".py",
   "mimetype": "text/x-python",
   "name": "python",
   "nbconvert_exporter": "python",
   "pygments_lexer": "ipython3",
   "version": "3.12.7"
  }
 },
 "nbformat": 4,
 "nbformat_minor": 5
}
